{
 "cells": [
  {
   "cell_type": "code",
   "execution_count": 2,
   "metadata": {
    "scrolled": true
   },
   "outputs": [
    {
     "name": "stdout",
     "output_type": "stream",
     "text": [
      "curiosity\n",
      "\n",
      "1.호기심\n",
      "2.큐리오시티\n",
      "\n"
     ]
    }
   ],
   "source": [
    "from bs4 import BeautifulSoup \n",
    "from urllib.request import urlopen\n",
    "\n",
    "# 검색하고 싶은 단어 입력하기\n",
    "word = 'curiosity'\n",
    "\n",
    "# 불러오려는 url 입력하기 \n",
    "url = 'http://dic.daum.net/search.do?q=' + word \t\t\t\t\t\t# 디폴트 url에 string 타입의 word 변수를 합쳐서 url 변수 생성\n",
    "\n",
    "# urlopen 함수를 통해 web 변수를 생성\n",
    "web = urlopen(url)\n",
    "\n",
    "# BeautifulSoup으로 web 페이지상의 HTML 구조를 파싱\n",
    "web_page = BeautifulSoup(web, 'html.parser')\n",
    "\n",
    "# find 함수를 통해 찾고자 하는 단어와 단어의 뜻이 있는 HTML 태그를 찾음\n",
    "box = web_page.find('div', {'class': 'search_cleanword'}).find('span', {'class': 'txt_emph1'}) \t# 'curiosity' 텍스트가 있는 곳\n",
    "box2 = web_page.find('ul', {'class': 'list_search'})\t\t\t\t\t\t\t\t\t\t\t# 단어의 뜻이 있는 곳\n",
    "\n",
    "# get_text 함수로 텍스트를 추출하고 이를 출력한다\n",
    "print(box.get_text())\t\t\t\t\t\t\t\t\t\t\t\t\t\t\t\t\t\t\t\n",
    "print(box2.get_text())"
   ]
  },
  {
   "cell_type": "code",
   "execution_count": 5,
   "metadata": {
    "scrolled": true
   },
   "outputs": [
    {
     "name": "stdout",
     "output_type": "stream",
     "text": [
      "beat\n",
      "\n",
      "1.이기다\n",
      "2.때리다\n",
      "3.물리치다\n",
      "4.비트\n",
      "5.뛰다\n",
      "\n",
      "killed\n",
      "\n",
      "1.죽음\n",
      "2.사망\n",
      "3.살해되다\n",
      "4.목숨을 잃다\n",
      "\n",
      "the\n",
      "\n",
      "1.그\n",
      "2.그럴수록\n",
      "3.더욱더\n",
      "\n",
      "cat\n",
      "\n",
      "1.고양이\n",
      "2.고양이과 동물\n",
      "\n"
     ]
    }
   ],
   "source": [
    "# 웹 크롤링에 필요한 모듈 불러오기\n",
    "from bs4 import BeautifulSoup \n",
    "from urllib.request import urlopen\n",
    "\n",
    "# 검색하고 싶은 단어 입력하기\n",
    "words = ['beat', 'killed', 'the', 'cat']\t\t\t# 단어를 여러 개 검색할 것이므로 복수의 단어를 리스트에 저장한다\n",
    "\n",
    "# for문을 통해 각각의 단어와 그 뜻을 출력한다\n",
    "for word in words:\t\t\t\t\t\t\t\t\t\t# 단어의 리스트에서 각각의 단어를 꺼냄\n",
    "\turl = 'http://dic.daum.net/search.do?q=' + word\t\t# 불러오려는 url 입력하기 \n",
    "\tweb = urlopen(url)\t\t\t\t\t\t\t\t\t# urlopen 함수를 통해 web 변수를 생성\t\t\t\t\t\t\t\n",
    "\tweb_page = BeautifulSoup(web, 'html.parser')\t\t# BeautifulSoup으로 web 페이지상의 HTML 구조를 파싱\n",
    "\t# find 함수를 통해 찾고자 하는 단어와 단어의 뜻이 있는 HTML 태그를 찾음\n",
    "\tbox = web_page.find('div', {'class': 'search_cleanword'}).find('span',{'class': 'txt_emph1'})\t# 단어가 있는 곳\n",
    "\tbox2 = web_page.findAll('ul', {'class': 'list_search'})[0]\t\t\t\t\t\t\t\t\t\t# 단어의 뜻이 있는 곳\n",
    "\t# get_text 함수로 텍스트를 추출하고 이를 출력한다\n",
    "\tprint(box.get_text())\n",
    "\tprint(box2.get_text())"
   ]
  },
  {
   "cell_type": "code",
   "execution_count": 6,
   "metadata": {},
   "outputs": [],
   "source": [
    "import numpy as np\n",
    "import pandas as pd\n",
    "from collections import Counter\n",
    "import networkx as nx\n",
    "import matplotlib.pyplot as plt\n",
    "%matplotlib inline"
   ]
  },
  {
   "cell_type": "code",
   "execution_count": 7,
   "metadata": {},
   "outputs": [],
   "source": [
    "# create empty network\n",
    "G = nx.Graph()"
   ]
  },
  {
   "cell_type": "code",
   "execution_count": 8,
   "metadata": {},
   "outputs": [],
   "source": [
    "# add one node with label '1'\n",
    "G.add_node('Mary')"
   ]
  },
  {
   "cell_type": "code",
   "execution_count": 9,
   "metadata": {},
   "outputs": [],
   "source": [
    "# add nodes from a list of elements\n",
    "G.add_nodes_from(['Mary', 'Steven', 'Alice'])"
   ]
  },
  {
   "cell_type": "code",
   "execution_count": 11,
   "metadata": {
    "scrolled": true
   },
   "outputs": [
    {
     "data": {
      "image/png": "[encoded data removed]",
      "text/plain": [
       "<Figure size 432x288 with 6 Axes>"
      ]
     },
     "metadata": {},
     "output_type": "display_data"
    }
   ],
   "source": [
    "from matplotlib.pyplot import *\n",
    "\n",
    "x = [1,2,3,4]\n",
    "y = [5,4,3,2]\n",
    "\n",
    "figure(\"A bunch of plots\")\n",
    "\n",
    "subplot(231)\n",
    "plot(x, y)\n",
    "\n",
    "subplot(232)\n",
    "bar(x, y)\n",
    "\n",
    "subplot(233)\n",
    "barh(x, y)\n",
    "\n",
    "subplot(234)\n",
    "bar(x, y)\n",
    "y1 = [7,8,5,3]\n",
    "bar(x, y1, bottom=y, color = 'r')\n",
    "\n",
    "subplot(235)\n",
    "boxplot(x)\n",
    "\n",
    "subplot(236)\n",
    "scatter(x,y)\n",
    "\n",
    "show()"
   ]
  },
  {
   "cell_type": "code",
   "execution_count": 13,
   "metadata": {},
   "outputs": [
    {
     "data": {
      "image/png": "[encoded data removed]",
      "text/plain": [
       "<Figure size 432x288 with 1 Axes>"
      ]
     },
     "metadata": {},
     "output_type": "display_data"
    }
   ],
   "source": [
    "import matplotlib.pyplot as pl\n",
    "import numpy as np\n",
    "\n",
    "# generate uniformly distributed \n",
    "# 256 points from -pi to pi, inclusive\n",
    "x = np.linspace(-np.pi, np.pi, 256, endpoint=True)\n",
    "\n",
    "# these are vectorised versions\n",
    "# of math.cos, and math.sin in built-in Python maths\n",
    "# compute cos for every x\n",
    "y = np.cos(x)\n",
    "\n",
    "# compute sin for every x\n",
    "y1 = np.sin(x)\n",
    "\n",
    "# plot both cos and sin\n",
    "pl.plot(x, y)\n",
    "pl.plot(x, y1)\n",
    "\n",
    "pl.show()"
   ]
  },
  {
   "cell_type": "code",
   "execution_count": 15,
   "metadata": {},
   "outputs": [
    {
     "data": {
      "text/html": [
       "\n",
       "<table style=\"border: 2px solid black;\">\n",
       "<tr><td>0,0</td><td>0,1</td><td>0,2</td><td>0,3</td><td>0,4</td></tr><tr><td>1,0</td><td>1,1</td><td>1,2</td><td>1,3</td><td>1,4</td></tr><tr><td>2,0</td><td>2,1</td><td>2,2</td><td>2,3</td><td>2,4</td></tr><tr><td>3,0</td><td>3,1</td><td>3,2</td><td>3,3</td><td>3,4</td></tr><tr><td>4,0</td><td>4,1</td><td>4,2</td><td>4,3</td><td>4,4</td></tr>\n",
       "</table>\n"
      ],
      "text/plain": [
       "<IPython.core.display.HTML object>"
      ]
     },
     "execution_count": 15,
     "metadata": {},
     "output_type": "execute_result"
    }
   ],
   "source": [
    "from IPython.display import HTML, SVG, YouTubeVideo\n",
    "\n",
    "HTML('''\n",
    "<table style=\"border: 2px solid black;\">\n",
    "''' + \n",
    "''.join(['<tr>' + \n",
    "         ''.join(['<td>{row},{col}</td>'.format(\n",
    "            row=row, col=col\n",
    "            ) for col in range(5)]) +\n",
    "         '</tr>' for row in range(5)]) +\n",
    "'''\n",
    "</table>\n",
    "''')"
   ]
  },
  {
   "cell_type": "code",
   "execution_count": 16,
   "metadata": {},
   "outputs": [
    {
     "name": "stdout",
     "output_type": "stream",
     "text": [
      "나이를 입력해주세요18\n",
      "2학년이신가요?\n"
     ]
    }
   ],
   "source": [
    "age = int(input('나이를 입력해주세요'))\n",
    "\n",
    "if age == 17 :\n",
    "    print('1학년이신가요?')\n",
    "elif age == 18 :\n",
    "    print('2학년이신가요?')\n",
    "elif age == 19 :\n",
    "    print('3학년이신가요?')\n",
    "else :\n",
    "    print('고등학생이 맞으신가요?')"
   ]
  },
  {
   "cell_type": "code",
   "execution_count": null,
   "metadata": {},
   "outputs": [],
   "source": []
  },
  {
   "cell_type": "code",
   "execution_count": null,
   "metadata": {},
   "outputs": [],
   "source": []
  }
 ],
 "metadata": {
  "kernelspec": {
   "display_name": "Python 3",
   "language": "python",
   "name": "python3"
  },
  "language_info": {
   "codemirror_mode": {
    "name": "ipython",
    "version": 3
   },
   "file_extension": ".py",
   "mimetype": "text/x-python",
   "name": "python",
   "nbconvert_exporter": "python",
   "pygments_lexer": "ipython3",
   "version": "3.6.5"
  }
 },
 "nbformat": 4,
 "nbformat_minor": 2
}
